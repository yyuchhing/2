{
  "nbformat": 4,
  "nbformat_minor": 0,
  "metadata": {
    "colab": {
      "provenance": [],
      "authorship_tag": "ABX9TyOzYoV16A3TXk7dvTNFfEjS",
      "include_colab_link": true
    },
    "kernelspec": {
      "name": "python3",
      "display_name": "Python 3"
    },
    "language_info": {
      "name": "python"
    }
  },
  "cells": [
    {
      "cell_type": "markdown",
      "metadata": {
        "id": "view-in-github",
        "colab_type": "text"
      },
      "source": [
        "<a href=\"https://colab.research.google.com/github/yyuchhing/2/blob/main/412540048.ipynb\" target=\"_parent\"><img src=\"https://colab.research.google.com/assets/colab-badge.svg\" alt=\"Open In Colab\"/></a>"
      ]
    },
    {
      "cell_type": "code",
      "execution_count": null,
      "metadata": {
        "id": "LhDVf10DkbCY"
      },
      "outputs": [],
      "source": [
        "test2=int(input('請輸入國文成績'))\n",
        "print(type(test2))\n",
        "test2+1\n",
        "test3=int(input('請輸入英文成績'))\n",
        "print(type(test3))\n",
        "test3+1\n",
        "test4=int(input('請輸入數學成績'))\n",
        "print(type(test4))\n",
        "test4+1\n",
        "answer=(test2+test3+test4)\n",
        "print(answer)"
      ]
    },
    {
      "cell_type": "code",
      "source": [
        "上底=int(input('請輸入上底長度'))\n",
        "請輸入上底長度3\n",
        "下底=int(input('請輸入下底長度'))\n",
        "請輸入下底長度4\n",
        "下底=int(input('請輸入梯形高度'))\n",
        "請輸入梯形高度3\n",
        "area=(上底+下底)*高/2\n"
      ],
      "metadata": {
        "id": "zHzm3KvVnE5W"
      },
      "execution_count": null,
      "outputs": []
    },
    {
      "cell_type": "code",
      "source": [
        "weight=80\n",
        "height_cm=180\n",
        "height_m=height_cm/100\n",
        "BMI=weight/(height_m*height_m)\n",
        "print(BMI)"
      ],
      "metadata": {
        "id": "LZmwbRhwonYl"
      },
      "execution_count": null,
      "outputs": []
    }
  ]
}