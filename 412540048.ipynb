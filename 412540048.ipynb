{
  "nbformat": 4,
  "nbformat_minor": 0,
  "metadata": {
    "colab": {
      "provenance": [],
      "authorship_tag": "ABX9TyOAH0KkgJUlxgqKRYTIkcwF",
      "include_colab_link": true
    },
    "kernelspec": {
      "name": "python3",
      "display_name": "Python 3"
    },
    "language_info": {
      "name": "python"
    }
  },
  "cells": [
    {
      "cell_type": "markdown",
      "metadata": {
        "id": "view-in-github",
        "colab_type": "text"
      },
      "source": [
        "<a href=\"https://colab.research.google.com/github/yyuchhing/2/blob/main/412540048.ipynb\" target=\"_parent\"><img src=\"https://colab.research.google.com/assets/colab-badge.svg\" alt=\"Open In Colab\"/></a>"
      ]
    },
    {
      "cell_type": "code",
      "execution_count": 7,
      "metadata": {
        "colab": {
          "base_uri": "https://localhost:8080/"
        },
        "id": "9jtyU5QUs0JD",
        "outputId": "2c9f6fad-caf2-4f60-8e51-db81537c66cc"
      },
      "outputs": [
        {
          "output_type": "stream",
          "name": "stdout",
          "text": [
            "請輸入您的體溫：39\n",
            "體溫過高！\n"
          ]
        }
      ],
      "source": [
        "temperature = float(input(\"請輸入您的體溫：\"))\n",
        "\n",
        "if temperature >= 37.5:\n",
        "    print(\"體溫過高！\")\n",
        "elif 37 <= temperature <= 37.4:\n",
        "    print(\"體溫略高！\")\n",
        "elif 34 <= temperature <= 36.9:\n",
        "    print(\"體溫正常！\")\n",
        "elif temperature < 34:\n",
        "    print(\"體溫異常，請重新量測！\")\n",
        "else:\n",
        "    print(\"輸入錯誤，請輸入有效的體溫值。\")"
      ]
    },
    {
      "cell_type": "code",
      "source": [
        "score = int(input(\"請輸入成績：\"))\n",
        "\n",
        "if score >= 90:\n",
        "    print(\"A\")\n",
        "elif 80 <= score <= 89:\n",
        "    print(\"B\")\n",
        "elif 70 <= score <= 79:\n",
        "    print(\"C\")\n",
        "elif 60 <= score <= 69:\n",
        "    print(\"D\")\n",
        "else:\n",
        "    print(\"E\")"
      ],
      "metadata": {
        "colab": {
          "base_uri": "https://localhost:8080/"
        },
        "id": "UJ5pIzfct7h1",
        "outputId": "5ea99452-a69e-4e32-fde9-8a18ed64b2dd"
      },
      "execution_count": 8,
      "outputs": [
        {
          "output_type": "stream",
          "name": "stdout",
          "text": [
            "請輸入成績：25\n",
            "E\n"
          ]
        }
      ]
    },
    {
      "cell_type": "code",
      "source": [
        "month=int(input())\n",
        "if(month  >=1 and month<=12):\n",
        " if(month==1 or month==2 or month==3):\n",
        "  print('{} is spring'.format(month))\n",
        " elif(month==4 or month==5 or month==6):\n",
        "  print('{} is summer'.format(month))\n",
        " elif(month==7 or month==8 or month==9):\n",
        "  print('{} is autumn'.format(month))\n",
        " elif(month==10 or month==11 or month==12):\n",
        "  print('{} is winter'.format(month))\n",
        "else:\n",
        "  print('Input Error')"
      ],
      "metadata": {
        "colab": {
          "base_uri": "https://localhost:8080/"
        },
        "id": "3dyABKFRuvjV",
        "outputId": "0f680d9c-8bde-455e-e816-5a9f5a558bca"
      },
      "execution_count": 9,
      "outputs": [
        {
          "output_type": "stream",
          "name": "stdout",
          "text": [
            "6\n",
            "6 is summer\n"
          ]
        }
      ]
    }
  ]
}